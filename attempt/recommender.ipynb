{
  "nbformat": 4,
  "nbformat_minor": 0,
  "metadata": {
    "colab": {
      "name": "Untitled17.ipynb",
      "provenance": []
    },
    "kernelspec": {
      "name": "python3",
      "display_name": "Python 3"
    }
  },
  "cells": [
    {
      "cell_type": "code",
      "metadata": {
        "id": "jk4ONcq6LESl"
      },
      "source": [
        "import numpy as np\n",
        "import pandas as pd\n",
        "import matplotlib.pyplot as plt\n",
        "import os\n",
        "import warnings\n",
        "\n",
        "warnings.filterwarnings('ignore')\n",
        "%matplotlib inline\n",
        "\n",
        "import tensorflow.keras as tf"
      ],
      "execution_count": 1,
      "outputs": []
    },
    {
      "cell_type": "code",
      "metadata": {
        "id": "0594pXXwLYAT",
        "outputId": "05463131-4887-4368-9623-070e359a1a2c",
        "colab": {
          "base_uri": "https://localhost:8080/",
          "height": 195
        }
      },
      "source": [
        "ratings_df = pd.read_csv(\"/content/ratings.csv\")\n",
        "ratings_df.head()"
      ],
      "execution_count": 2,
      "outputs": [
        {
          "output_type": "execute_result",
          "data": {
            "text/html": [
              "<div>\n",
              "<style scoped>\n",
              "    .dataframe tbody tr th:only-of-type {\n",
              "        vertical-align: middle;\n",
              "    }\n",
              "\n",
              "    .dataframe tbody tr th {\n",
              "        vertical-align: top;\n",
              "    }\n",
              "\n",
              "    .dataframe thead th {\n",
              "        text-align: right;\n",
              "    }\n",
              "</style>\n",
              "<table border=\"1\" class=\"dataframe\">\n",
              "  <thead>\n",
              "    <tr style=\"text-align: right;\">\n",
              "      <th></th>\n",
              "      <th>book_id</th>\n",
              "      <th>user_id</th>\n",
              "      <th>rating</th>\n",
              "    </tr>\n",
              "  </thead>\n",
              "  <tbody>\n",
              "    <tr>\n",
              "      <th>0</th>\n",
              "      <td>1</td>\n",
              "      <td>314</td>\n",
              "      <td>5</td>\n",
              "    </tr>\n",
              "    <tr>\n",
              "      <th>1</th>\n",
              "      <td>1</td>\n",
              "      <td>439</td>\n",
              "      <td>3</td>\n",
              "    </tr>\n",
              "    <tr>\n",
              "      <th>2</th>\n",
              "      <td>1</td>\n",
              "      <td>588</td>\n",
              "      <td>5</td>\n",
              "    </tr>\n",
              "    <tr>\n",
              "      <th>3</th>\n",
              "      <td>1</td>\n",
              "      <td>1169</td>\n",
              "      <td>4</td>\n",
              "    </tr>\n",
              "    <tr>\n",
              "      <th>4</th>\n",
              "      <td>1</td>\n",
              "      <td>1185</td>\n",
              "      <td>4</td>\n",
              "    </tr>\n",
              "  </tbody>\n",
              "</table>\n",
              "</div>"
            ],
            "text/plain": [
              "   book_id  user_id  rating\n",
              "0        1      314       5\n",
              "1        1      439       3\n",
              "2        1      588       5\n",
              "3        1     1169       4\n",
              "4        1     1185       4"
            ]
          },
          "metadata": {
            "tags": []
          },
          "execution_count": 2
        }
      ]
    },
    {
      "cell_type": "code",
      "metadata": {
        "id": "mN6oGbijLg6W",
        "outputId": "60c28673-2a83-4bbc-d2a5-b5a133690f68",
        "colab": {
          "base_uri": "https://localhost:8080/",
          "height": 134
        }
      },
      "source": [
        "print(ratings_df.shape)\n",
        "print(ratings_df.user_id.nunique())\n",
        "print(ratings_df.book_id.nunique())\n",
        "ratings_df.isna().sum()"
      ],
      "execution_count": 3,
      "outputs": [
        {
          "output_type": "stream",
          "text": [
            "(981756, 3)\n",
            "53424\n",
            "10000\n"
          ],
          "name": "stdout"
        },
        {
          "output_type": "execute_result",
          "data": {
            "text/plain": [
              "book_id    0\n",
              "user_id    0\n",
              "rating     0\n",
              "dtype: int64"
            ]
          },
          "metadata": {
            "tags": []
          },
          "execution_count": 3
        }
      ]
    },
    {
      "cell_type": "code",
      "metadata": {
        "id": "ikOWz1DjLgwa",
        "outputId": "dfcfb559-c0bb-4edc-d930-1c210b0caf82",
        "colab": {
          "base_uri": "https://localhost:8080/",
          "height": 50
        }
      },
      "source": [
        "from sklearn.model_selection import train_test_split\n",
        "Xtrain, Xtest = train_test_split(ratings_df, test_size=0.2, random_state=1)\n",
        "print(f\"Shape of train data: {Xtrain.shape}\")\n",
        "print(f\"Shape of test data: {Xtest.shape}\")"
      ],
      "execution_count": 4,
      "outputs": [
        {
          "output_type": "stream",
          "text": [
            "Shape of train data: (785404, 3)\n",
            "Shape of test data: (196352, 3)\n"
          ],
          "name": "stdout"
        }
      ]
    },
    {
      "cell_type": "code",
      "metadata": {
        "id": "W0XOHU6iLm1g"
      },
      "source": [
        "#Get the number of unique entities in books and users columns\n",
        "nbook_id = ratings_df.book_id.nunique()\n",
        "nuser_id = ratings_df.user_id.nunique()"
      ],
      "execution_count": 5,
      "outputs": []
    },
    {
      "cell_type": "code",
      "metadata": {
        "id": "KLYfK0fVLtKE"
      },
      "source": [
        "#Book input network\n",
        "input_books = tf.layers.Input(shape=[1])\n",
        "embed_books = tf.layers.Embedding(nbook_id + 1,15)(input_books)\n",
        "books_out = tf.layers.Flatten()(embed_books)\n",
        "\n",
        "#user input network\n",
        "input_users = tf.layers.Input(shape=[1])\n",
        "embed_users = tf.layers.Embedding(nuser_id + 1,15)(input_users)\n",
        "users_out = tf.layers.Flatten()(embed_users)\n",
        "\n",
        "conc_layer = tf.layers.Concatenate()([books_out, users_out])\n",
        "x = tf.layers.Dense(128, activation='relu')(conc_layer)\n",
        "x_out = x = tf.layers.Dense(1, activation='relu')(x)\n",
        "model = tf.Model([input_books, input_users], x_out)"
      ],
      "execution_count": 6,
      "outputs": []
    },
    {
      "cell_type": "code",
      "metadata": {
        "id": "r2RaCu5KLydP",
        "outputId": "3ece7f16-1797-47c5-84eb-c49649652dc1",
        "colab": {
          "base_uri": "https://localhost:8080/",
          "height": 470
        }
      },
      "source": [
        "opt = tf.optimizers.Adam(learning_rate=0.001)\n",
        "model.compile(optimizer=opt, loss='mean_squared_error')\n",
        "model.summary()"
      ],
      "execution_count": 7,
      "outputs": [
        {
          "output_type": "stream",
          "text": [
            "Model: \"functional_1\"\n",
            "__________________________________________________________________________________________________\n",
            "Layer (type)                    Output Shape         Param #     Connected to                     \n",
            "==================================================================================================\n",
            "input_1 (InputLayer)            [(None, 1)]          0                                            \n",
            "__________________________________________________________________________________________________\n",
            "input_2 (InputLayer)            [(None, 1)]          0                                            \n",
            "__________________________________________________________________________________________________\n",
            "embedding (Embedding)           (None, 1, 15)        150015      input_1[0][0]                    \n",
            "__________________________________________________________________________________________________\n",
            "embedding_1 (Embedding)         (None, 1, 15)        801375      input_2[0][0]                    \n",
            "__________________________________________________________________________________________________\n",
            "flatten (Flatten)               (None, 15)           0           embedding[0][0]                  \n",
            "__________________________________________________________________________________________________\n",
            "flatten_1 (Flatten)             (None, 15)           0           embedding_1[0][0]                \n",
            "__________________________________________________________________________________________________\n",
            "concatenate (Concatenate)       (None, 30)           0           flatten[0][0]                    \n",
            "                                                                 flatten_1[0][0]                  \n",
            "__________________________________________________________________________________________________\n",
            "dense (Dense)                   (None, 128)          3968        concatenate[0][0]                \n",
            "__________________________________________________________________________________________________\n",
            "dense_1 (Dense)                 (None, 1)            129         dense[0][0]                      \n",
            "==================================================================================================\n",
            "Total params: 955,487\n",
            "Trainable params: 955,487\n",
            "Non-trainable params: 0\n",
            "__________________________________________________________________________________________________\n"
          ],
          "name": "stdout"
        }
      ]
    },
    {
      "cell_type": "code",
      "metadata": {
        "id": "O2Qa7CuRL2ab",
        "outputId": "a2d776ed-0c05-41d3-accd-5752060cddda",
        "colab": {
          "base_uri": "https://localhost:8080/",
          "height": 185
        }
      },
      "source": [
        "hist = model.fit([Xtrain.book_id, Xtrain.user_id], Xtrain.rating, \n",
        "                 batch_size=64, \n",
        "                 epochs=5, \n",
        "                 verbose=1,\n",
        "                 validation_data=([Xtest.book_id, Xtest.user_id], Xtest.rating))"
      ],
      "execution_count": 8,
      "outputs": [
        {
          "output_type": "stream",
          "text": [
            "Epoch 1/5\n",
            "12272/12272 [==============================] - 136s 11ms/step - loss: 0.8605 - val_loss: 0.7126\n",
            "Epoch 2/5\n",
            "12272/12272 [==============================] - 141s 11ms/step - loss: 0.6854 - val_loss: 0.7033\n",
            "Epoch 3/5\n",
            "12272/12272 [==============================] - 139s 11ms/step - loss: 0.6528 - val_loss: 0.6938\n",
            "Epoch 4/5\n",
            "12272/12272 [==============================] - 143s 12ms/step - loss: 0.6221 - val_loss: 0.6991\n",
            "Epoch 5/5\n",
            "12272/12272 [==============================] - 143s 12ms/step - loss: 0.5918 - val_loss: 0.7061\n"
          ],
          "name": "stdout"
        }
      ]
    },
    {
      "cell_type": "code",
      "metadata": {
        "id": "1gdtOrG8L5Rc",
        "outputId": "35e22dea-fb9c-4fac-a1bd-9738f72ff8db",
        "colab": {
          "base_uri": "https://localhost:8080/",
          "height": 281
        }
      },
      "source": [
        "train_loss = hist.history['loss']\n",
        "val_loss = hist.history['val_loss']\n",
        "plt.plot(train_loss, color='r', label='Train Loss')\n",
        "plt.plot(val_loss, color='b', label='Validation Loss')\n",
        "plt.title(\"Train and Validation Loss Curve\")\n",
        "plt.legend()\n",
        "plt.show()"
      ],
      "execution_count": 9,
      "outputs": [
        {
          "output_type": "display_data",
          "data": {
            "image/png": "[encoded data removed]",
            "text/plain": [
              "<Figure size 432x288 with 1 Axes>"
            ]
          },
          "metadata": {
            "tags": [],
            "needs_background": "light"
          }
        }
      ]
    },
    {
      "cell_type": "code",
      "metadata": {
        "id": "B_vnCaeuLBEN",
        "outputId": "4e3068c1-73b2-4940-ddf6-58a17a4ee8f8",
        "colab": {
          "base_uri": "https://localhost:8080/",
          "height": 34
        }
      },
      "source": [
        "from keras.models import model_from_json\n",
        "# serialize model to JSON\n",
        "model_json = model.to_json()\n",
        "with open(\"model.json\", \"w\") as json_file:\n",
        "    json_file.write(model_json)\n",
        "# serialize weights to HDF5\n",
        "model.save_weights(\"model.h5\")\n",
        "print(\"Saved model to disk\")"
      ],
      "execution_count": 14,
      "outputs": [
        {
          "output_type": "stream",
          "text": [
            "Saved model to disk\n"
          ],
          "name": "stdout"
        }
      ]
    },
    {
      "cell_type": "code",
      "metadata": {
        "id": "6n_r8YhEMSKJ",
        "outputId": "21be9e95-a425-43d8-f801-7484614156c5",
        "colab": {
          "base_uri": "https://localhost:8080/",
          "height": 34
        }
      },
      "source": [
        "# load json and create model\n",
        "json_file = open('/content/model.json', 'r')\n",
        "loaded_model_json = json_file.read()\n",
        "json_file.close()\n",
        "loaded_model = model_from_json(loaded_model_json)\n",
        "# load weights into new model\n",
        "loaded_model.load_weights(\"/content/model.h5\")\n",
        "print(\"Loaded model from disk\")"
      ],
      "execution_count": 16,
      "outputs": [
        {
          "output_type": "stream",
          "text": [
            "Loaded model from disk\n"
          ],
          "name": "stdout"
        }
      ]
    },
    {
      "cell_type": "code",
      "metadata": {
        "id": "OKWqjU0DO4IM"
      },
      "source": [
        "b_id =list(ratings_df.book_id.unique())\n",
        "b_id.remove(10000)"
      ],
      "execution_count": 18,
      "outputs": []
    },
    {
      "cell_type": "code",
      "metadata": {
        "id": "GX9EBILrMEWM",
        "outputId": "c07ae41b-2b72-40c9-8daf-d6330db5d3ea",
        "colab": {
          "base_uri": "https://localhost:8080/",
          "height": 134
        }
      },
      "source": [
        "#Making recommendations for user 100\n",
        "book_arr = np.array(b_id) #get all book IDs\n",
        "user = np.array([100 for i in range(len(b_id))])\n",
        "pred = model.predict([book_arr, user])\n",
        "pred"
      ],
      "execution_count": 19,
      "outputs": [
        {
          "output_type": "execute_result",
          "data": {
            "text/plain": [
              "array([[4.316213 ],\n",
              "       [4.478707 ],\n",
              "       [3.2564762],\n",
              "       ...,\n",
              "       [4.577052 ],\n",
              "       [4.273483 ],\n",
              "       [3.4699705]], dtype=float32)"
            ]
          },
          "metadata": {
            "tags": []
          },
          "execution_count": 19
        }
      ]
    },
    {
      "cell_type": "code",
      "metadata": {
        "id": "4iALVqZRMiG8",
        "outputId": "5ab288dc-aea2-4b28-a901-d87dd590c153",
        "colab": {
          "base_uri": "https://localhost:8080/",
          "height": 134
        }
      },
      "source": [
        "#Making recommendations for user 100\n",
        "book_arr = np.array(b_id) #get all book IDs\n",
        "user = np.array([100 for i in range(len(b_id))])\n",
        "pred = loaded_model.predict([book_arr, user])\n",
        "pred"
      ],
      "execution_count": 20,
      "outputs": [
        {
          "output_type": "execute_result",
          "data": {
            "text/plain": [
              "array([[4.316213 ],\n",
              "       [4.478707 ],\n",
              "       [3.2564762],\n",
              "       ...,\n",
              "       [4.577052 ],\n",
              "       [4.273483 ],\n",
              "       [3.4699705]], dtype=float32)"
            ]
          },
          "metadata": {
            "tags": []
          },
          "execution_count": 20
        }
      ]
    },
    {
      "cell_type": "code",
      "metadata": {
        "id": "WmlCDK0wMjVC",
        "outputId": "6516b80f-a171-40db-99e8-70ca2dde26da",
        "colab": {
          "base_uri": "https://localhost:8080/",
          "height": 34
        }
      },
      "source": [
        "pred = pred.reshape(-1) #reshape to single dimension\n",
        "pred_ids = (-pred).argsort()[0:5]\n",
        "pred_ids"
      ],
      "execution_count": 21,
      "outputs": [
        {
          "output_type": "execute_result",
          "data": {
            "text/plain": [
              "array([8853, 9565, 7946, 5206, 5918])"
            ]
          },
          "metadata": {
            "tags": []
          },
          "execution_count": 21
        }
      ]
    },
    {
      "cell_type": "code",
      "metadata": {
        "id": "e_qE4-_kO6gn",
        "outputId": "7f645845-3f4e-4371-de70-e431ebb8f181",
        "colab": {
          "base_uri": "https://localhost:8080/",
          "height": 434
        }
      },
      "source": [
        "books_df = pd.read_csv(\"/content/books.csv\")\n",
        "books_df.head()"
      ],
      "execution_count": 22,
      "outputs": [
        {
          "output_type": "execute_result",
          "data": {
            "text/html": [
              "<div>\n",
              "<style scoped>\n",
              "    .dataframe tbody tr th:only-of-type {\n",
              "        vertical-align: middle;\n",
              "    }\n",
              "\n",
              "    .dataframe tbody tr th {\n",
              "        vertical-align: top;\n",
              "    }\n",
              "\n",
              "    .dataframe thead th {\n",
              "        text-align: right;\n",
              "    }\n",
              "</style>\n",
              "<table border=\"1\" class=\"dataframe\">\n",
              "  <thead>\n",
              "    <tr style=\"text-align: right;\">\n",
              "      <th></th>\n",
              "      <th>id</th>\n",
              "      <th>book_id</th>\n",
              "      <th>best_book_id</th>\n",
              "      <th>work_id</th>\n",
              "      <th>books_count</th>\n",
              "      <th>isbn</th>\n",
              "      <th>isbn13</th>\n",
              "      <th>authors</th>\n",
              "      <th>original_publication_year</th>\n",
              "      <th>original_title</th>\n",
              "      <th>title</th>\n",
              "      <th>language_code</th>\n",
              "      <th>average_rating</th>\n",
              "      <th>ratings_count</th>\n",
              "      <th>work_ratings_count</th>\n",
              "      <th>work_text_reviews_count</th>\n",
              "      <th>ratings_1</th>\n",
              "      <th>ratings_2</th>\n",
              "      <th>ratings_3</th>\n",
              "      <th>ratings_4</th>\n",
              "      <th>ratings_5</th>\n",
              "      <th>image_url</th>\n",
              "      <th>small_image_url</th>\n",
              "      <th>Links</th>\n",
              "      <th>Product URL</th>\n",
              "      <th>Unnamed: 25</th>\n",
              "    </tr>\n",
              "  </thead>\n",
              "  <tbody>\n",
              "    <tr>\n",
              "      <th>0</th>\n",
              "      <td>1</td>\n",
              "      <td>2767052</td>\n",
              "      <td>2767052</td>\n",
              "      <td>2792775</td>\n",
              "      <td>272</td>\n",
              "      <td>439023483</td>\n",
              "      <td>9.780439e+12</td>\n",
              "      <td>Suzanne Collins</td>\n",
              "      <td>2008.0</td>\n",
              "      <td>The Hunger Games</td>\n",
              "      <td>The Hunger Games (The Hunger Games, #1)</td>\n",
              "      <td>eng</td>\n",
              "      <td>4.34</td>\n",
              "      <td>4780653</td>\n",
              "      <td>4942365.0</td>\n",
              "      <td>155254.0</td>\n",
              "      <td>66715</td>\n",
              "      <td>127936</td>\n",
              "      <td>560092</td>\n",
              "      <td>1481305</td>\n",
              "      <td>2706317</td>\n",
              "      <td>https://images.gr-assets.com/books/1447303603m...</td>\n",
              "      <td>https://images.gr-assets.com/books/1447303603s...</td>\n",
              "      <td>https://i2.ztat.net/large/Y0/32/1C/00/UE/11/Y0...</td>\n",
              "      <td>NaN</td>\n",
              "      <td>NaN</td>\n",
              "    </tr>\n",
              "    <tr>\n",
              "      <th>1</th>\n",
              "      <td>2</td>\n",
              "      <td>3</td>\n",
              "      <td>3</td>\n",
              "      <td>4640799</td>\n",
              "      <td>491</td>\n",
              "      <td>439554934</td>\n",
              "      <td>9.780440e+12</td>\n",
              "      <td>J.K. Rowling, Mary GrandPré</td>\n",
              "      <td>1997.0</td>\n",
              "      <td>Harry Potter and the Philosopher's Stone</td>\n",
              "      <td>Harry Potter and the Sorcerer's Stone (Harry P...</td>\n",
              "      <td>eng</td>\n",
              "      <td>4.44</td>\n",
              "      <td>4602479</td>\n",
              "      <td>4800065.0</td>\n",
              "      <td>75867.0</td>\n",
              "      <td>75504</td>\n",
              "      <td>101676</td>\n",
              "      <td>455024</td>\n",
              "      <td>1156318</td>\n",
              "      <td>3011543</td>\n",
              "      <td>https://images.gr-assets.com/books/1474154022m...</td>\n",
              "      <td>https://images.gr-assets.com/books/1474154022s...</td>\n",
              "      <td>https://i6.ztat.net/large/V1/02/1C/0T/QK/11/V1...</td>\n",
              "      <td>NaN</td>\n",
              "      <td>NaN</td>\n",
              "    </tr>\n",
              "    <tr>\n",
              "      <th>2</th>\n",
              "      <td>3</td>\n",
              "      <td>41865</td>\n",
              "      <td>41865</td>\n",
              "      <td>3212258</td>\n",
              "      <td>226</td>\n",
              "      <td>316015849</td>\n",
              "      <td>9.780316e+12</td>\n",
              "      <td>Stephenie Meyer</td>\n",
              "      <td>2005.0</td>\n",
              "      <td>Twilight</td>\n",
              "      <td>Twilight (Twilight, #1)</td>\n",
              "      <td>en-US</td>\n",
              "      <td>3.57</td>\n",
              "      <td>3866839</td>\n",
              "      <td>3916824.0</td>\n",
              "      <td>95009.0</td>\n",
              "      <td>456191</td>\n",
              "      <td>436802</td>\n",
              "      <td>793319</td>\n",
              "      <td>875073</td>\n",
              "      <td>1355439</td>\n",
              "      <td>https://images.gr-assets.com/books/1361039443m...</td>\n",
              "      <td>https://images.gr-assets.com/books/1361039443s...</td>\n",
              "      <td>https://i6.ztat.net/large/TF/72/1C/01/5K/11/TF...</td>\n",
              "      <td>NaN</td>\n",
              "      <td>NaN</td>\n",
              "    </tr>\n",
              "    <tr>\n",
              "      <th>3</th>\n",
              "      <td>4</td>\n",
              "      <td>2657</td>\n",
              "      <td>2657</td>\n",
              "      <td>3275794</td>\n",
              "      <td>487</td>\n",
              "      <td>61120081</td>\n",
              "      <td>9.780061e+12</td>\n",
              "      <td>Harper Lee</td>\n",
              "      <td>1960.0</td>\n",
              "      <td>To Kill a Mockingbird</td>\n",
              "      <td>To Kill a Mockingbird</td>\n",
              "      <td>eng</td>\n",
              "      <td>4.25</td>\n",
              "      <td>3198671</td>\n",
              "      <td>3340896.0</td>\n",
              "      <td>72586.0</td>\n",
              "      <td>60427</td>\n",
              "      <td>117415</td>\n",
              "      <td>446835</td>\n",
              "      <td>1001952</td>\n",
              "      <td>1714267</td>\n",
              "      <td>https://images.gr-assets.com/books/1361975680m...</td>\n",
              "      <td>https://images.gr-assets.com/books/1361975680s...</td>\n",
              "      <td>https://i2.ztat.net/large/VE/12/1C/14/9C/11/VE...</td>\n",
              "      <td>NaN</td>\n",
              "      <td>NaN</td>\n",
              "    </tr>\n",
              "    <tr>\n",
              "      <th>4</th>\n",
              "      <td>5</td>\n",
              "      <td>4671</td>\n",
              "      <td>4671</td>\n",
              "      <td>245494</td>\n",
              "      <td>1356</td>\n",
              "      <td>743273567</td>\n",
              "      <td>9.780743e+12</td>\n",
              "      <td>F. Scott Fitzgerald</td>\n",
              "      <td>1925.0</td>\n",
              "      <td>The Great Gatsby</td>\n",
              "      <td>The Great Gatsby</td>\n",
              "      <td>eng</td>\n",
              "      <td>3.89</td>\n",
              "      <td>2683664</td>\n",
              "      <td>2773745.0</td>\n",
              "      <td>51992.0</td>\n",
              "      <td>86236</td>\n",
              "      <td>197621</td>\n",
              "      <td>606158</td>\n",
              "      <td>936012</td>\n",
              "      <td>947718</td>\n",
              "      <td>https://images.gr-assets.com/books/1490528560m...</td>\n",
              "      <td>https://images.gr-assets.com/books/1490528560s...</td>\n",
              "      <td>https://i6.ztat.net/large/S2/92/1C/0B/AK/11/S2...</td>\n",
              "      <td>NaN</td>\n",
              "      <td>NaN</td>\n",
              "    </tr>\n",
              "  </tbody>\n",
              "</table>\n",
              "</div>"
            ],
            "text/plain": [
              "   id  book_id  ...  Product URL  Unnamed: 25\n",
              "0   1  2767052  ...          NaN          NaN\n",
              "1   2        3  ...          NaN          NaN\n",
              "2   3    41865  ...          NaN          NaN\n",
              "3   4     2657  ...          NaN          NaN\n",
              "4   5     4671  ...          NaN          NaN\n",
              "\n",
              "[5 rows x 26 columns]"
            ]
          },
          "metadata": {
            "tags": []
          },
          "execution_count": 22
        }
      ]
    },
    {
      "cell_type": "code",
      "metadata": {
        "id": "DRhBvX88PNVz"
      },
      "source": [
        "books_df_copy = books_df.copy()\n",
        "books_df_copy = books_df_copy.set_index(\"book_id\")"
      ],
      "execution_count": 23,
      "outputs": []
    },
    {
      "cell_type": "code",
      "metadata": {
        "id": "70nS3XUPPZFh",
        "outputId": "a5dbb5d1-18e3-4efa-98b7-dd0e3715bddd",
        "colab": {
          "base_uri": "https://localhost:8080/",
          "height": 568
        }
      },
      "source": [
        "books_df.iloc[pred_ids]"
      ],
      "execution_count": 27,
      "outputs": [
        {
          "output_type": "execute_result",
          "data": {
            "text/html": [
              "<div>\n",
              "<style scoped>\n",
              "    .dataframe tbody tr th:only-of-type {\n",
              "        vertical-align: middle;\n",
              "    }\n",
              "\n",
              "    .dataframe tbody tr th {\n",
              "        vertical-align: top;\n",
              "    }\n",
              "\n",
              "    .dataframe thead th {\n",
              "        text-align: right;\n",
              "    }\n",
              "</style>\n",
              "<table border=\"1\" class=\"dataframe\">\n",
              "  <thead>\n",
              "    <tr style=\"text-align: right;\">\n",
              "      <th></th>\n",
              "      <th>id</th>\n",
              "      <th>book_id</th>\n",
              "      <th>best_book_id</th>\n",
              "      <th>work_id</th>\n",
              "      <th>books_count</th>\n",
              "      <th>isbn</th>\n",
              "      <th>isbn13</th>\n",
              "      <th>authors</th>\n",
              "      <th>original_publication_year</th>\n",
              "      <th>original_title</th>\n",
              "      <th>title</th>\n",
              "      <th>language_code</th>\n",
              "      <th>average_rating</th>\n",
              "      <th>ratings_count</th>\n",
              "      <th>work_ratings_count</th>\n",
              "      <th>work_text_reviews_count</th>\n",
              "      <th>ratings_1</th>\n",
              "      <th>ratings_2</th>\n",
              "      <th>ratings_3</th>\n",
              "      <th>ratings_4</th>\n",
              "      <th>ratings_5</th>\n",
              "      <th>image_url</th>\n",
              "      <th>small_image_url</th>\n",
              "      <th>Links</th>\n",
              "      <th>Product URL</th>\n",
              "      <th>Unnamed: 25</th>\n",
              "    </tr>\n",
              "  </thead>\n",
              "  <tbody>\n",
              "    <tr>\n",
              "      <th>8853</th>\n",
              "      <td>8854</td>\n",
              "      <td>95602</td>\n",
              "      <td>95602</td>\n",
              "      <td>920037</td>\n",
              "      <td>6</td>\n",
              "      <td>842339523</td>\n",
              "      <td>9.780842e+12</td>\n",
              "      <td>Francine Rivers</td>\n",
              "      <td>1993.0</td>\n",
              "      <td>Mark of the Lion Trilogy</td>\n",
              "      <td>Mark of the Lion Trilogy</td>\n",
              "      <td>en-US</td>\n",
              "      <td>4.76</td>\n",
              "      <td>9081</td>\n",
              "      <td>9547.0</td>\n",
              "      <td>731.0</td>\n",
              "      <td>27</td>\n",
              "      <td>61</td>\n",
              "      <td>323</td>\n",
              "      <td>1363</td>\n",
              "      <td>7773</td>\n",
              "      <td>https://images.gr-assets.com/books/1349032180m...</td>\n",
              "      <td>https://images.gr-assets.com/books/1349032180s...</td>\n",
              "      <td>https://assets.myntassets.com/dpr_2,q_60,w_210...</td>\n",
              "      <td>NaN</td>\n",
              "      <td>NaN</td>\n",
              "    </tr>\n",
              "    <tr>\n",
              "      <th>9565</th>\n",
              "      <td>9566</td>\n",
              "      <td>70487</td>\n",
              "      <td>70487</td>\n",
              "      <td>2244439</td>\n",
              "      <td>24</td>\n",
              "      <td>1417642165</td>\n",
              "      <td>9.781418e+12</td>\n",
              "      <td>Bill Watterson</td>\n",
              "      <td>1992.0</td>\n",
              "      <td>Attack of the Deranged Mutant Killer Monster S...</td>\n",
              "      <td>Attack of the Deranged Mutant Killer Monster S...</td>\n",
              "      <td>eng</td>\n",
              "      <td>4.72</td>\n",
              "      <td>9713</td>\n",
              "      <td>12197.0</td>\n",
              "      <td>233.0</td>\n",
              "      <td>15</td>\n",
              "      <td>30</td>\n",
              "      <td>514</td>\n",
              "      <td>2292</td>\n",
              "      <td>9346</td>\n",
              "      <td>https://images.gr-assets.com/books/1384735429m...</td>\n",
              "      <td>https://images.gr-assets.com/books/1384735429s...</td>\n",
              "      <td>https://assets.myntassets.com/dpr_2,q_60,w_210...</td>\n",
              "      <td>NaN</td>\n",
              "      <td>NaN</td>\n",
              "    </tr>\n",
              "    <tr>\n",
              "      <th>7946</th>\n",
              "      <td>7947</td>\n",
              "      <td>5031805</td>\n",
              "      <td>5031805</td>\n",
              "      <td>40769318</td>\n",
              "      <td>96</td>\n",
              "      <td>1433502410</td>\n",
              "      <td>9.781434e+12</td>\n",
              "      <td>Anonymous, Lane T. Dennis, Wayne A. Grudem</td>\n",
              "      <td>2002.0</td>\n",
              "      <td>NaN</td>\n",
              "      <td>ESV Study Bible</td>\n",
              "      <td>eng</td>\n",
              "      <td>4.76</td>\n",
              "      <td>8953</td>\n",
              "      <td>10784.0</td>\n",
              "      <td>262.0</td>\n",
              "      <td>98</td>\n",
              "      <td>90</td>\n",
              "      <td>367</td>\n",
              "      <td>1152</td>\n",
              "      <td>9077</td>\n",
              "      <td>https://images.gr-assets.com/books/1410151002m...</td>\n",
              "      <td>https://images.gr-assets.com/books/1410151002s...</td>\n",
              "      <td>https://i2.ztat.net/large/ML/92/1C/00/DQ/11/ML...</td>\n",
              "      <td>NaN</td>\n",
              "      <td>NaN</td>\n",
              "    </tr>\n",
              "    <tr>\n",
              "      <th>5206</th>\n",
              "      <td>5207</td>\n",
              "      <td>24818</td>\n",
              "      <td>24818</td>\n",
              "      <td>946589</td>\n",
              "      <td>28</td>\n",
              "      <td>836217357</td>\n",
              "      <td>9.780836e+12</td>\n",
              "      <td>Bill Watterson</td>\n",
              "      <td>1993.0</td>\n",
              "      <td>The Days Are Just Packed: A Calvin and Hobbes ...</td>\n",
              "      <td>The Days Are Just Packed: A Calvin and Hobbes ...</td>\n",
              "      <td>en-US</td>\n",
              "      <td>4.68</td>\n",
              "      <td>19143</td>\n",
              "      <td>20374.0</td>\n",
              "      <td>228.0</td>\n",
              "      <td>114</td>\n",
              "      <td>149</td>\n",
              "      <td>942</td>\n",
              "      <td>3636</td>\n",
              "      <td>15533</td>\n",
              "      <td>https://images.gr-assets.com/books/1418211162m...</td>\n",
              "      <td>https://images.gr-assets.com/books/1418211162s...</td>\n",
              "      <td>https://i1.ztat.net/large/PO/A2/1C/00/2Q/11/PO...</td>\n",
              "      <td>NaN</td>\n",
              "      <td>NaN</td>\n",
              "    </tr>\n",
              "    <tr>\n",
              "      <th>5918</th>\n",
              "      <td>5919</td>\n",
              "      <td>265205</td>\n",
              "      <td>265205</td>\n",
              "      <td>19119097</td>\n",
              "      <td>183</td>\n",
              "      <td>310919797</td>\n",
              "      <td>9.780311e+12</td>\n",
              "      <td>Anonymous, Ronald A. Beers, Ronald A. Beers</td>\n",
              "      <td>1992.0</td>\n",
              "      <td>NaN</td>\n",
              "      <td>Life Application Study Bible: NIV</td>\n",
              "      <td>eng</td>\n",
              "      <td>4.67</td>\n",
              "      <td>13614</td>\n",
              "      <td>14774.0</td>\n",
              "      <td>270.0</td>\n",
              "      <td>239</td>\n",
              "      <td>207</td>\n",
              "      <td>670</td>\n",
              "      <td>1992</td>\n",
              "      <td>11666</td>\n",
              "      <td>https://s.gr-assets.com/assets/nophoto/book/11...</td>\n",
              "      <td>https://s.gr-assets.com/assets/nophoto/book/50...</td>\n",
              "      <td>https://i6.ztat.net/large/EV/42/1C/A5/VQ/12/EV...</td>\n",
              "      <td>NaN</td>\n",
              "      <td>NaN</td>\n",
              "    </tr>\n",
              "  </tbody>\n",
              "</table>\n",
              "</div>"
            ],
            "text/plain": [
              "        id  book_id  ...  Product URL  Unnamed: 25\n",
              "8853  8854    95602  ...          NaN          NaN\n",
              "9565  9566    70487  ...          NaN          NaN\n",
              "7946  7947  5031805  ...          NaN          NaN\n",
              "5206  5207    24818  ...          NaN          NaN\n",
              "5918  5919   265205  ...          NaN          NaN\n",
              "\n",
              "[5 rows x 26 columns]"
            ]
          },
          "metadata": {
            "tags": []
          },
          "execution_count": 27
        }
      ]
    },
    {
      "cell_type": "code",
      "metadata": {
        "id": "wU6v6o9EPd8X",
        "outputId": "89005261-9038-46b9-aa3a-37667737f67d",
        "colab": {
          "base_uri": "https://localhost:8080/",
          "height": 195
        }
      },
      "source": [
        "web_book_data = books_df[[\"book_id\", \"Links\"]]\n",
        "web_book_data = web_book_data.sort_values('book_id')\n",
        "web_book_data.head()"
      ],
      "execution_count": 28,
      "outputs": [
        {
          "output_type": "execute_result",
          "data": {
            "text/html": [
              "<div>\n",
              "<style scoped>\n",
              "    .dataframe tbody tr th:only-of-type {\n",
              "        vertical-align: middle;\n",
              "    }\n",
              "\n",
              "    .dataframe tbody tr th {\n",
              "        vertical-align: top;\n",
              "    }\n",
              "\n",
              "    .dataframe thead th {\n",
              "        text-align: right;\n",
              "    }\n",
              "</style>\n",
              "<table border=\"1\" class=\"dataframe\">\n",
              "  <thead>\n",
              "    <tr style=\"text-align: right;\">\n",
              "      <th></th>\n",
              "      <th>book_id</th>\n",
              "      <th>Links</th>\n",
              "    </tr>\n",
              "  </thead>\n",
              "  <tbody>\n",
              "    <tr>\n",
              "      <th>26</th>\n",
              "      <td>1</td>\n",
              "      <td>https://i1.ztat.net/large/GL/C2/1C/00/9T/11/GL...</td>\n",
              "    </tr>\n",
              "    <tr>\n",
              "      <th>20</th>\n",
              "      <td>2</td>\n",
              "      <td>https://i1.ztat.net/large/CV/72/1C/01/OJ/11/CV...</td>\n",
              "    </tr>\n",
              "    <tr>\n",
              "      <th>1</th>\n",
              "      <td>3</td>\n",
              "      <td>https://i6.ztat.net/large/V1/02/1C/0T/QK/11/V1...</td>\n",
              "    </tr>\n",
              "    <tr>\n",
              "      <th>17</th>\n",
              "      <td>5</td>\n",
              "      <td>https://i1.ztat.net/large/M3/22/1C/AB/DG/11/M3...</td>\n",
              "    </tr>\n",
              "    <tr>\n",
              "      <th>23</th>\n",
              "      <td>6</td>\n",
              "      <td>https://i1.ztat.net/large/IC/22/1C/05/OJ/11/IC...</td>\n",
              "    </tr>\n",
              "  </tbody>\n",
              "</table>\n",
              "</div>"
            ],
            "text/plain": [
              "    book_id                                              Links\n",
              "26        1  https://i1.ztat.net/large/GL/C2/1C/00/9T/11/GL...\n",
              "20        2  https://i1.ztat.net/large/CV/72/1C/01/OJ/11/CV...\n",
              "1         3  https://i6.ztat.net/large/V1/02/1C/0T/QK/11/V1...\n",
              "17        5  https://i1.ztat.net/large/M3/22/1C/AB/DG/11/M3...\n",
              "23        6  https://i1.ztat.net/large/IC/22/1C/05/OJ/11/IC..."
            ]
          },
          "metadata": {
            "tags": []
          },
          "execution_count": 28
        }
      ]
    },
    {
      "cell_type": "code",
      "metadata": {
        "id": "W7nxj0OpdaSk"
      },
      "source": [
        ""
      ],
      "execution_count": null,
      "outputs": []
    }
  ]
}