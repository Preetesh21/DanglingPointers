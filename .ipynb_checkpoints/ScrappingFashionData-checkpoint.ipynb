{
 "cells": [
  {
   "cell_type": "code",
   "execution_count": 1,
   "metadata": {
    "id": "3IfB19xaaNkf"
   },
   "outputs": [],
   "source": [
    "import pandas as pd\n",
    "import bs4\n",
    "import requests"
   ]
  },
  {
   "cell_type": "code",
   "execution_count": 2,
   "metadata": {
    "id": "6SgGtOOBazT5"
   },
   "outputs": [],
   "source": [
    "req=requests.get('https://raw.githubusercontent.com/cerlymarco/MEDIUM_NoteBook/master/ZALANDO_Recomendation_Tag/FEIDEGGER.csv')"
   ]
  },
  {
   "cell_type": "code",
   "execution_count": null,
   "metadata": {
    "colab": {
     "base_uri": "https://localhost:8080/",
     "height": 54
    },
    "id": "nvSZibDYa2fW",
    "outputId": "d5d6e8c4-7419-4476-807b-0fd86e645176"
   },
   "outputs": [],
   "source": [
    "req.content"
   ]
  },
  {
   "cell_type": "code",
   "execution_count": 4,
   "metadata": {
    "colab": {
     "base_uri": "https://localhost:8080/",
     "height": 34
    },
    "id": "C8x_LPvSbDcb",
    "outputId": "fc030daa-7092-4524-aaeb-73d8a7c18e72"
   },
   "outputs": [
    {
     "data": {
      "text/plain": [
       "bytes"
      ]
     },
     "execution_count": 4,
     "metadata": {},
     "output_type": "execute_result"
    }
   ],
   "source": [
    "type(req.content)"
   ]
  },
  {
   "cell_type": "code",
   "execution_count": 3,
   "metadata": {
    "id": "Jm4gSARabIv6"
   },
   "outputs": [],
   "source": [
    "s=str(req.content)"
   ]
  },
  {
   "cell_type": "code",
   "execution_count": 4,
   "metadata": {
    "colab": {
     "base_uri": "https://localhost:8080/",
     "height": 34
    },
    "id": "DCPyFgzebLn1",
    "outputId": "d848b04f-c950-4058-a085-31404636e105"
   },
   "outputs": [
    {
     "data": {
      "text/plain": [
       "9210881"
      ]
     },
     "execution_count": 4,
     "metadata": {},
     "output_type": "execute_result"
    }
   ],
   "source": [
    "len(s)"
   ]
  },
  {
   "cell_type": "code",
   "execution_count": 5,
   "metadata": {},
   "outputs": [
    {
     "data": {
      "text/plain": [
       "44910"
      ]
     },
     "execution_count": 5,
     "metadata": {},
     "output_type": "execute_result"
    }
   ],
   "source": [
    "xx = list(s.split('\\\\n'))\n",
    "len(xx)"
   ]
  },
  {
   "cell_type": "code",
   "execution_count": 7,
   "metadata": {},
   "outputs": [],
   "source": [
    "xx = xx[1:]"
   ]
  },
  {
   "cell_type": "code",
   "execution_count": 8,
   "metadata": {},
   "outputs": [],
   "source": [
    "links_to_imgs = []\n",
    "description_of_imgs = []"
   ]
  },
  {
   "cell_type": "code",
   "execution_count": 9,
   "metadata": {},
   "outputs": [],
   "source": [
    "for obj in xx:\n",
    "    ind = obj.find('.jpg')\n",
    "    lnk = obj[:ind+4]\n",
    "    desc = obj[ind+4:]\n",
    "    links_to_imgs.append(lnk)\n",
    "    description_of_imgs.append(desc)"
   ]
  },
  {
   "cell_type": "code",
   "execution_count": 7,
   "metadata": {
    "id": "bexnMMhTbTvh"
   },
   "outputs": [],
   "source": [
    "links=[]\n",
    "i=25\n",
    "descriptions=[]\n",
    "des=''\n",
    "while(i<len(s)):\n",
    "  if(i+64>len(s)):\n",
    "    break\n",
    "  links.append(s[i:i+64])\n",
    "  i=i+64\n",
    "  i=i+1\n",
    "  \n",
    "  while(s[i]):\n",
    "    if(s[i]=='\\\\' and s[i+1]=='n'):\n",
    "      break\n",
    "    else:\n",
    "      des=des+s[i]\n",
    "      i=i+1\n",
    "  descriptions.append(des)\n",
    "  des=''\n",
    "  i=i+2"
   ]
  },
  {
   "cell_type": "code",
   "execution_count": 8,
   "metadata": {
    "colab": {
     "base_uri": "https://localhost:8080/",
     "height": 34
    },
    "id": "nl0cPopTcwpo",
    "outputId": "f39fb679-0a3f-452e-95c3-ba05d38c5ad5"
   },
   "outputs": [
    {
     "data": {
      "text/plain": [
       "44316"
      ]
     },
     "execution_count": 8,
     "metadata": {},
     "output_type": "execute_result"
    }
   ],
   "source": [
    "len(links)"
   ]
  },
  {
   "cell_type": "code",
   "execution_count": 9,
   "metadata": {
    "colab": {
     "base_uri": "https://localhost:8080/",
     "height": 34
    },
    "id": "rV_68e30dCmJ",
    "outputId": "9cf8f715-5792-4980-fb98-fbcf82804d7c"
   },
   "outputs": [
    {
     "data": {
      "text/plain": [
       "44316"
      ]
     },
     "execution_count": 9,
     "metadata": {},
     "output_type": "execute_result"
    }
   ],
   "source": [
    "len(descriptions)"
   ]
  },
  {
   "cell_type": "code",
   "execution_count": 10,
   "metadata": {
    "id": "AZ6LhJzkdMby"
   },
   "outputs": [],
   "source": [
    "list_of_tuples = list(zip(links_to_imgs, description_of_imgs))"
   ]
  },
  {
   "cell_type": "code",
   "execution_count": 11,
   "metadata": {
    "colab": {
     "base_uri": "https://localhost:8080/",
     "height": 195
    },
    "id": "ogU6UBQydmH2",
    "outputId": "e20148e1-f812-4276-c04b-c90ab7718314"
   },
   "outputs": [
    {
     "data": {
      "text/html": [
       "<div>\n",
       "<style scoped>\n",
       "    .dataframe tbody tr th:only-of-type {\n",
       "        vertical-align: middle;\n",
       "    }\n",
       "\n",
       "    .dataframe tbody tr th {\n",
       "        vertical-align: top;\n",
       "    }\n",
       "\n",
       "    .dataframe thead th {\n",
       "        text-align: right;\n",
       "    }\n",
       "</style>\n",
       "<table border=\"1\" class=\"dataframe\">\n",
       "  <thead>\n",
       "    <tr style=\"text-align: right;\">\n",
       "      <th></th>\n",
       "      <th>Links</th>\n",
       "      <th>Descriptions</th>\n",
       "    </tr>\n",
       "  </thead>\n",
       "  <tbody>\n",
       "    <tr>\n",
       "      <td>0</td>\n",
       "      <td>https://i2.ztat.net/large/Y0/32/1C/00/UE/11/Y0...</td>\n",
       "      <td>,\"kurze, sexy, sommer, sexy, party, gelb kleid...</td>\n",
       "    </tr>\n",
       "    <tr>\n",
       "      <td>1</td>\n",
       "      <td>https://i2.ztat.net/large/Y0/32/1C/00/UE/11/Y0...</td>\n",
       "      <td>,ein gelbes kleid welches eine l\\xc3\\xa4nge bi...</td>\n",
       "    </tr>\n",
       "    <tr>\n",
       "      <td>2</td>\n",
       "      <td>https://i2.ztat.net/large/Y0/32/1C/00/UE/11/Y0...</td>\n",
       "      <td>,\"Knielanges Stoffkleid in gelb mit weitem Roc...</td>\n",
       "    </tr>\n",
       "    <tr>\n",
       "      <td>3</td>\n",
       "      <td>https://i2.ztat.net/large/Y0/32/1C/00/UE/11/Y0...</td>\n",
       "      <td>,Gelbes \\xc3\\xa4rmelloses Sommerkleid. Es hat ...</td>\n",
       "    </tr>\n",
       "    <tr>\n",
       "      <td>4</td>\n",
       "      <td>https://i2.ztat.net/large/Y0/32/1C/00/UE/11/Y0...</td>\n",
       "      <td>,\"Luftiges Sommerkleid das hinten etwas l\\xc3\\...</td>\n",
       "    </tr>\n",
       "  </tbody>\n",
       "</table>\n",
       "</div>"
      ],
      "text/plain": [
       "                                               Links  \\\n",
       "0  https://i2.ztat.net/large/Y0/32/1C/00/UE/11/Y0...   \n",
       "1  https://i2.ztat.net/large/Y0/32/1C/00/UE/11/Y0...   \n",
       "2  https://i2.ztat.net/large/Y0/32/1C/00/UE/11/Y0...   \n",
       "3  https://i2.ztat.net/large/Y0/32/1C/00/UE/11/Y0...   \n",
       "4  https://i2.ztat.net/large/Y0/32/1C/00/UE/11/Y0...   \n",
       "\n",
       "                                        Descriptions  \n",
       "0  ,\"kurze, sexy, sommer, sexy, party, gelb kleid...  \n",
       "1  ,ein gelbes kleid welches eine l\\xc3\\xa4nge bi...  \n",
       "2  ,\"Knielanges Stoffkleid in gelb mit weitem Roc...  \n",
       "3  ,Gelbes \\xc3\\xa4rmelloses Sommerkleid. Es hat ...  \n",
       "4  ,\"Luftiges Sommerkleid das hinten etwas l\\xc3\\...  "
      ]
     },
     "execution_count": 11,
     "metadata": {},
     "output_type": "execute_result"
    }
   ],
   "source": [
    "df = pd.DataFrame(list_of_tuples, columns = ['Links', 'Descriptions'])  \n",
    "# Print data.  \n",
    "df.head() "
   ]
  },
  {
   "cell_type": "code",
   "execution_count": 12,
   "metadata": {
    "colab": {
     "base_uri": "https://localhost:8080/",
     "height": 34
    },
    "id": "kaAbf6sedtXr",
    "outputId": "78b2b267-6639-4d59-db40-76c8c798a5ef"
   },
   "outputs": [
    {
     "data": {
      "text/plain": [
       "8960"
      ]
     },
     "execution_count": 12,
     "metadata": {},
     "output_type": "execute_result"
    }
   ],
   "source": [
    "len(set(df['Links']))"
   ]
  },
  {
   "cell_type": "code",
   "execution_count": null,
   "metadata": {
    "id": "SudjpwN3jkZA"
   },
   "outputs": [],
   "source": [
    "!pip install googletrans"
   ]
  },
  {
   "cell_type": "code",
   "execution_count": 13,
   "metadata": {
    "id": "uB7nHJxieI6_"
   },
   "outputs": [],
   "source": [
    "from googletrans import Translator"
   ]
  },
  {
   "cell_type": "code",
   "execution_count": null,
   "metadata": {
    "id": "-GvSu9T2dv8e"
   },
   "outputs": [],
   "source": [
    "# using google translator to convert the German language to English.\n",
    "translator = Translator()\n",
    "final=[]\n",
    "def translate_row(row):\n",
    "    ''' Translate elements A and B within `row`. '''\n",
    "    a = translator.translate(row[0], dest='en')\n",
    "    return pd.Series([a.origin, a.text],)\n",
    "\n",
    "\n",
    "for i, row in enumerate(df['Descriptions'].values):\n",
    "    # Fill empty dataframe with given serie.\n",
    "    l = translate_row(row)\n",
    "    final.append(l)"
   ]
  },
  {
   "cell_type": "code",
   "execution_count": null,
   "metadata": {
    "id": "2k5LgfyXjVXn"
   },
   "outputs": [],
   "source": [
    "df['descriptions']=final"
   ]
  },
  {
   "cell_type": "code",
   "execution_count": null,
   "metadata": {
    "id": "2QoGybEkhwpD"
   },
   "outputs": [],
   "source": [
    "df.to_csv('file2.csv')"
   ]
  },
  {
   "cell_type": "code",
   "execution_count": null,
   "metadata": {
    "id": "VBfqDxdNiKF4"
   },
   "outputs": [],
   "source": []
  }
 ],
 "metadata": {
  "colab": {
   "collapsed_sections": [],
   "name": "ScrappingFashionData",
   "provenance": []
  },
  "kernelspec": {
   "display_name": "Python 3",
   "language": "python",
   "name": "python3"
  },
  "language_info": {
   "codemirror_mode": {
    "name": "ipython",
    "version": 3
   },
   "file_extension": ".py",
   "mimetype": "text/x-python",
   "name": "python",
   "nbconvert_exporter": "python",
   "pygments_lexer": "ipython3",
   "version": "3.8.3"
  }
 },
 "nbformat": 4,
 "nbformat_minor": 1
}
